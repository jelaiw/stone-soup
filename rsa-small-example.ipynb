{
 "cells": [
  {
   "cell_type": "markdown",
   "id": "af349311",
   "metadata": {},
   "source": [
    "See section \"VIII. A Small Example\" at https://publications.csail.mit.edu/lcs/pubs/pdf/MIT-LCS-TM-082.pdf."
   ]
  },
  {
   "cell_type": "code",
   "execution_count": 1,
   "id": "384880f8",
   "metadata": {},
   "outputs": [
    {
     "data": {
      "text/plain": [
       "2773"
      ]
     },
     "execution_count": 1,
     "metadata": {},
     "output_type": "execute_result"
    }
   ],
   "source": [
    "p = 47\n",
    "q = 59\n",
    "n = p * q\n",
    "n"
   ]
  },
  {
   "cell_type": "code",
   "execution_count": 2,
   "id": "0be43274",
   "metadata": {},
   "outputs": [],
   "source": [
    "d = 157"
   ]
  },
  {
   "cell_type": "markdown",
   "id": "9238e83f",
   "metadata": {},
   "source": [
    "Given $p$, $q$, $d$ confirm expected $\\phi(n)$ and $e$."
   ]
  },
  {
   "cell_type": "code",
   "execution_count": 3,
   "id": "03a0a8dc",
   "metadata": {},
   "outputs": [
    {
     "data": {
      "text/plain": [
       "2668"
      ]
     },
     "execution_count": 3,
     "metadata": {},
     "output_type": "execute_result"
    }
   ],
   "source": [
    "phi = (p - 1) * (q - 1)\n",
    "phi"
   ]
  },
  {
   "cell_type": "code",
   "execution_count": 4,
   "id": "7c73df7d",
   "metadata": {},
   "outputs": [
    {
     "data": {
      "text/plain": [
       "17"
      ]
     },
     "execution_count": 4,
     "metadata": {},
     "output_type": "execute_result"
    }
   ],
   "source": [
    "e = pow(d, -1, phi)\n",
    "e"
   ]
  },
  {
   "cell_type": "markdown",
   "id": "0f1371ca",
   "metadata": {},
   "source": [
    "With such a small $n$ the authors decide on a two letters per block encoding, substituting a two-digit number for each letter."
   ]
  },
  {
   "cell_type": "code",
   "execution_count": 5,
   "id": "fe83f834",
   "metadata": {},
   "outputs": [
    {
     "data": {
      "text/plain": [
       "b\"IT'S ALL GREEK TO ME\""
      ]
     },
     "execution_count": 5,
     "metadata": {},
     "output_type": "execute_result"
    }
   ],
   "source": [
    "message = b\"IT'S ALL GREEK TO ME\"\n",
    "message"
   ]
  },
  {
   "cell_type": "markdown",
   "id": "e29f6d89",
   "metadata": {},
   "source": [
    "For the below \"alphabet\" the encoding will produce integers that fit under $n-1$. How convenient. :-D"
   ]
  },
  {
   "cell_type": "code",
   "execution_count": 6,
   "id": "62f95977",
   "metadata": {},
   "outputs": [],
   "source": [
    "alphabet = \" ABCDEFGHIJKLMNOPQRSTUVWXYZ\""
   ]
  },
  {
   "cell_type": "markdown",
   "id": "579b7718",
   "metadata": {},
   "source": [
    "The first block of two letters `IT` is encoded as integer $920$."
   ]
  },
  {
   "cell_type": "code",
   "execution_count": 7,
   "id": "ce28cf7e",
   "metadata": {},
   "outputs": [
    {
     "data": {
      "text/plain": [
       "9"
      ]
     },
     "execution_count": 7,
     "metadata": {},
     "output_type": "execute_result"
    }
   ],
   "source": [
    "alphabet.find(\"I\")"
   ]
  },
  {
   "cell_type": "code",
   "execution_count": 8,
   "id": "a154f4b4",
   "metadata": {},
   "outputs": [
    {
     "data": {
      "text/plain": [
       "20"
      ]
     },
     "execution_count": 8,
     "metadata": {},
     "output_type": "execute_result"
    }
   ],
   "source": [
    "alphabet.find(\"T\")"
   ]
  },
  {
   "cell_type": "code",
   "execution_count": 9,
   "id": "92e7079b",
   "metadata": {},
   "outputs": [],
   "source": [
    "M = 920"
   ]
  },
  {
   "cell_type": "markdown",
   "id": "f7446aaf",
   "metadata": {},
   "source": [
    "Confirm ciphertext is the expected integer after $M^e\\mod{n}$."
   ]
  },
  {
   "cell_type": "code",
   "execution_count": 10,
   "id": "863bdd4f",
   "metadata": {},
   "outputs": [
    {
     "data": {
      "text/plain": [
       "948"
      ]
     },
     "execution_count": 10,
     "metadata": {},
     "output_type": "execute_result"
    }
   ],
   "source": [
    "c = pow(M, e, n)\n",
    "c"
   ]
  },
  {
   "cell_type": "markdown",
   "id": "b7a95709",
   "metadata": {},
   "source": [
    "Confirm plaintext after $c^d\\mod{n}$ is equal to the original $M$."
   ]
  },
  {
   "cell_type": "code",
   "execution_count": 11,
   "id": "d3ee6e1a",
   "metadata": {},
   "outputs": [
    {
     "data": {
      "text/plain": [
       "920"
      ]
     },
     "execution_count": 11,
     "metadata": {},
     "output_type": "execute_result"
    }
   ],
   "source": [
    "p = pow(c, d, n)\n",
    "p"
   ]
  },
  {
   "cell_type": "markdown",
   "id": "3c8d4346",
   "metadata": {},
   "source": [
    "Only the first two letters is no fun. :-D\n",
    "\n",
    "Plenty of room to fit a short message under a 4096 bit modulus."
   ]
  },
  {
   "cell_type": "code",
   "execution_count": 12,
   "id": "bc5765cb",
   "metadata": {},
   "outputs": [],
   "source": [
    "from Crypto.Util.number import getPrime"
   ]
  },
  {
   "cell_type": "code",
   "execution_count": 13,
   "id": "70db19ba",
   "metadata": {},
   "outputs": [],
   "source": [
    "p = getPrime(2048)\n",
    "q = getPrime(2048)"
   ]
  },
  {
   "cell_type": "code",
   "execution_count": 14,
   "id": "f78d7ad0",
   "metadata": {},
   "outputs": [
    {
     "data": {
      "text/plain": [
       "4096"
      ]
     },
     "execution_count": 14,
     "metadata": {},
     "output_type": "execute_result"
    }
   ],
   "source": [
    "n = p * q\n",
    "n.bit_length()"
   ]
  },
  {
   "cell_type": "code",
   "execution_count": 15,
   "id": "c1de4f07",
   "metadata": {},
   "outputs": [],
   "source": [
    "e = 65537"
   ]
  },
  {
   "cell_type": "code",
   "execution_count": 16,
   "id": "36ec8c7c",
   "metadata": {},
   "outputs": [],
   "source": [
    "phi = (p - 1) * (q - 1)"
   ]
  },
  {
   "cell_type": "code",
   "execution_count": 17,
   "id": "f88e97a3",
   "metadata": {},
   "outputs": [],
   "source": [
    "d = pow(e, -1, phi)"
   ]
  },
  {
   "cell_type": "code",
   "execution_count": 18,
   "id": "078c411b",
   "metadata": {},
   "outputs": [],
   "source": [
    "assert(e * d % phi == 1)"
   ]
  },
  {
   "cell_type": "code",
   "execution_count": 19,
   "id": "1dd02b08",
   "metadata": {},
   "outputs": [
    {
     "data": {
      "text/plain": [
       "b\"IT'S ALL GREEK TO ME\""
      ]
     },
     "execution_count": 19,
     "metadata": {},
     "output_type": "execute_result"
    }
   ],
   "source": [
    "message = b\"IT'S ALL GREEK TO ME\"\n",
    "message"
   ]
  },
  {
   "cell_type": "code",
   "execution_count": 20,
   "id": "b2537ff3",
   "metadata": {},
   "outputs": [
    {
     "data": {
      "text/plain": [
       "418633014532278993355802232105491980517468294469"
      ]
     },
     "execution_count": 20,
     "metadata": {},
     "output_type": "execute_result"
    }
   ],
   "source": [
    "M = int.from_bytes(message)\n",
    "M"
   ]
  },
  {
   "cell_type": "code",
   "execution_count": 21,
   "id": "91bb0b82",
   "metadata": {},
   "outputs": [
    {
     "data": {
      "text/plain": [
       "538891075442600010231628572921080956785351601785773758557496610856432935680540191748810114681621514351776132896774383740118981533651039479721657512745772257499598088817596111990029143743318175748941888032991002062852079488930813792471198219395803576616324463868393529874267601786513863159749250782678208624088667357761281260211194853092748009341127157482199855860874502991386381195957889187473497638463865819927508401505837381608828821939130773121500006960516972776929382958974486244817699575338801639526032644868817637176703222916021551825452814141735755618406347625514293390277853137441021566975782871841551194465310064668186776824678320321111318158985375235349599958374799935542992933597868775105969301655049066446438516039976455718403202882013821373653479422986002671484427832482069217000036966549936264186123085102010584621644045796562931954556415102534160636484302082640442914418571028106030674935793468363067013260198510459086051007333873748458888341264505454787411182020747730716511813402523233178836510838582832711541904778866567010522034580713618471839741790895268176843590160003234748479641688592300933912646248087828028356128701486747924010705756285187530177638217974946568544279504079703063769861411140360202976259128817"
      ]
     },
     "execution_count": 21,
     "metadata": {},
     "output_type": "execute_result"
    }
   ],
   "source": [
    "ciphertext = pow(M, e, n)\n",
    "ciphertext"
   ]
  },
  {
   "cell_type": "code",
   "execution_count": 22,
   "id": "880cee7e",
   "metadata": {},
   "outputs": [
    {
     "data": {
      "text/plain": [
       "418633014532278993355802232105491980517468294469"
      ]
     },
     "execution_count": 22,
     "metadata": {},
     "output_type": "execute_result"
    }
   ],
   "source": [
    "plaintext = pow(ciphertext, d, n)\n",
    "plaintext"
   ]
  },
  {
   "cell_type": "code",
   "execution_count": 23,
   "id": "2bf7736c",
   "metadata": {},
   "outputs": [
    {
     "data": {
      "text/plain": [
       "b\"IT'S ALL GREEK TO ME\""
      ]
     },
     "execution_count": 23,
     "metadata": {},
     "output_type": "execute_result"
    }
   ],
   "source": [
    "plaintext.to_bytes(len(message))"
   ]
  },
  {
   "cell_type": "code",
   "execution_count": null,
   "id": "61cad32a",
   "metadata": {},
   "outputs": [],
   "source": []
  }
 ],
 "metadata": {
  "kernelspec": {
   "display_name": "Python 3",
   "language": "python",
   "name": "python3"
  },
  "language_info": {
   "codemirror_mode": {
    "name": "ipython",
    "version": 3
   },
   "file_extension": ".py",
   "mimetype": "text/x-python",
   "name": "python",
   "nbconvert_exporter": "python",
   "pygments_lexer": "ipython3",
   "version": "3.12.1"
  }
 },
 "nbformat": 4,
 "nbformat_minor": 5
}
