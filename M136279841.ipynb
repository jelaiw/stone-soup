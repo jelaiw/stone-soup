{
 "cells": [
  {
   "cell_type": "markdown",
   "id": "011b241a",
   "metadata": {},
   "source": [
    "## DIY is_prime\n",
    "Warm up a bit with a few simple exercises.\n",
    "\n",
    "Algorithm is from Stephens at http://csharphelper.com/howtos/howto_check_primality.html."
   ]
  },
  {
   "cell_type": "code",
   "execution_count": 1,
   "id": "bb831c7e",
   "metadata": {},
   "outputs": [],
   "source": [
    "from secrets import randbelow"
   ]
  },
  {
   "cell_type": "code",
   "execution_count": 2,
   "id": "1b2c0c91",
   "metadata": {},
   "outputs": [],
   "source": [
    "# Return true if p is a probable prime given k trials with randomly chosen base a.\n",
    "def is_prime(p, k):\n",
    "    for _i in range(k):\n",
    "        a = randbelow(p)\n",
    "        if pow(a, p-1, p) != 1:\n",
    "            return False # Fermat composite witness\n",
    "\n",
    "    # If prime candidate passes all k trials, there is probability 1/2^k that probable prime is a Fermal liar.\n",
    "    return True"
   ]
  },
  {
   "cell_type": "code",
   "execution_count": 3,
   "id": "eb0c459f",
   "metadata": {},
   "outputs": [],
   "source": [
    "NUM_TRIALS = 20"
   ]
  },
  {
   "cell_type": "markdown",
   "id": "ba054f11",
   "metadata": {},
   "source": [
    "Sanity check `is_prime` on a few well-known Fermat numbers.\n",
    "\n",
    "https://en.wikipedia.org/wiki/Fermat_number"
   ]
  },
  {
   "cell_type": "code",
   "execution_count": 4,
   "id": "881d6b3b",
   "metadata": {},
   "outputs": [
    {
     "data": {
      "text/plain": [
       "True"
      ]
     },
     "execution_count": 4,
     "metadata": {},
     "output_type": "execute_result"
    }
   ],
   "source": [
    "is_prime(2**16 + 1, NUM_TRIALS) # Largest known Fermat prime."
   ]
  },
  {
   "cell_type": "code",
   "execution_count": 5,
   "id": "aa322aed",
   "metadata": {},
   "outputs": [
    {
     "data": {
      "text/plain": [
       "False"
      ]
     },
     "execution_count": 5,
     "metadata": {},
     "output_type": "execute_result"
    }
   ],
   "source": [
    "is_prime(2**32 + 1, NUM_TRIALS) # Euler factored this in 1732."
   ]
  },
  {
   "cell_type": "code",
   "execution_count": 6,
   "id": "e9e9bb01",
   "metadata": {},
   "outputs": [
    {
     "data": {
      "text/plain": [
       "False"
      ]
     },
     "execution_count": 6,
     "metadata": {},
     "output_type": "execute_result"
    }
   ],
   "source": [
    "is_prime(2**64 + 1, NUM_TRIALS) # Factored in 1855."
   ]
  },
  {
   "cell_type": "markdown",
   "id": "70e2d65f",
   "metadata": {},
   "source": [
    "## M136279841\n",
    "Python built-in `int` support for arbitrarily large integers helps us manipulate this massive number."
   ]
  },
  {
   "cell_type": "code",
   "execution_count": 7,
   "id": "5ff0a161",
   "metadata": {},
   "outputs": [
    {
     "data": {
      "text/plain": [
       "int"
      ]
     },
     "execution_count": 7,
     "metadata": {},
     "output_type": "execute_result"
    }
   ],
   "source": [
    "M136279841 = 2**136_279_841 - 1\n",
    "type(M136279841)"
   ]
  },
  {
   "cell_type": "markdown",
   "id": "f3a1dc57",
   "metadata": {},
   "source": [
    "This is a [Mersenne prime](https://en.wikipedia.org/wiki/Mersenne_prime), which is a prime number of the form $M_p = 2^p - 1$.\n",
    "\n",
    "It really does take $136,279,841$ binary bits to represent this number."
   ]
  },
  {
   "cell_type": "code",
   "execution_count": 8,
   "id": "e534ae28",
   "metadata": {},
   "outputs": [
    {
     "data": {
      "text/plain": [
       "136279841"
      ]
     },
     "execution_count": 8,
     "metadata": {},
     "output_type": "execute_result"
    }
   ],
   "source": [
    "M136279841.bit_length()"
   ]
  },
  {
   "cell_type": "markdown",
   "id": "f2d23a9b",
   "metadata": {},
   "source": [
    "Confirm that the exponent $p$ is prime.\n",
    "\n",
    "Switch to a more thoroughly vetted `isprime` implementation from SymPy."
   ]
  },
  {
   "cell_type": "code",
   "execution_count": 9,
   "id": "04d687c1",
   "metadata": {},
   "outputs": [],
   "source": [
    "from sympy.ntheory.primetest import isprime"
   ]
  },
  {
   "cell_type": "code",
   "execution_count": 10,
   "id": "bf5f588c",
   "metadata": {},
   "outputs": [
    {
     "data": {
      "text/plain": [
       "True"
      ]
     },
     "execution_count": 10,
     "metadata": {},
     "output_type": "execute_result"
    }
   ],
   "source": [
    "exponent = 136_279_841\n",
    "isprime(exponent)"
   ]
  },
  {
   "cell_type": "markdown",
   "id": "523d30f3",
   "metadata": {},
   "source": [
    "## Write M136279841 to a file\n",
    "Disable Python DoS protection (see CVE 2020-10735) first.\n",
    "\n",
    "See https://docs.python.org/3/library/stdtypes.html#integer-string-conversion-length-limitation."
   ]
  },
  {
   "cell_type": "code",
   "execution_count": 12,
   "id": "c0872110",
   "metadata": {},
   "outputs": [],
   "source": [
    "import sys\n",
    "sys.set_int_max_str_digits(0)"
   ]
  },
  {
   "cell_type": "markdown",
   "id": "4301a9e5",
   "metadata": {},
   "source": [
    "Yup, it really does have _41 million_ decimal digits.\n",
    "\n",
    "Also, the int to string conversion took about 30 seconds, which confirms that this really can be used as a DoS."
   ]
  },
  {
   "cell_type": "code",
   "execution_count": 13,
   "id": "c3d5f8a8",
   "metadata": {},
   "outputs": [
    {
     "data": {
      "text/plain": [
       "41024320"
      ]
     },
     "execution_count": 13,
     "metadata": {},
     "output_type": "execute_result"
    }
   ],
   "source": [
    "_M136279841 = str(M136279841)\n",
    "len(_M136279841)"
   ]
  },
  {
   "cell_type": "markdown",
   "id": "74201003",
   "metadata": {},
   "source": [
    "Confirm the first and last 120 digits, as reported."
   ]
  },
  {
   "cell_type": "code",
   "execution_count": 14,
   "id": "4452dc30",
   "metadata": {},
   "outputs": [
    {
     "data": {
      "text/plain": [
       "'881694327503833265553939100378117358971207354509066041067156376412422630694756841441725990347723283108837509739959776874'"
      ]
     },
     "execution_count": 14,
     "metadata": {},
     "output_type": "execute_result"
    }
   ],
   "source": [
    "_M136279841[:120]"
   ]
  },
  {
   "cell_type": "code",
   "execution_count": 15,
   "id": "85d8360c",
   "metadata": {},
   "outputs": [
    {
     "data": {
      "text/plain": [
       "'852806517931459412567957568284228288124096109707961148305849349766085764170715060409404509622104665555076706219486871551'"
      ]
     },
     "execution_count": 15,
     "metadata": {},
     "output_type": "execute_result"
    }
   ],
   "source": [
    "_M136279841[-120:]"
   ]
  },
  {
   "cell_type": "markdown",
   "id": "83fdd2ea",
   "metadata": {},
   "source": [
    "This is a 40 MB file!"
   ]
  },
  {
   "cell_type": "code",
   "execution_count": 16,
   "id": "ceaa1336",
   "metadata": {},
   "outputs": [],
   "source": [
    "with open(\"M136279841.txt\", \"w\") as f:\n",
    "    f.write(_M136279841)"
   ]
  },
  {
   "cell_type": "code",
   "execution_count": null,
   "id": "40cab3fd",
   "metadata": {},
   "outputs": [],
   "source": []
  }
 ],
 "metadata": {
  "kernelspec": {
   "display_name": "Python 3",
   "language": "python",
   "name": "python3"
  },
  "language_info": {
   "codemirror_mode": {
    "name": "ipython",
    "version": 3
   },
   "file_extension": ".py",
   "mimetype": "text/x-python",
   "name": "python",
   "nbconvert_exporter": "python",
   "pygments_lexer": "ipython3",
   "version": "3.12.1"
  }
 },
 "nbformat": 4,
 "nbformat_minor": 5
}
